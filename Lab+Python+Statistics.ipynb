{
 "cells": [
  {
   "cell_type": "code",
   "execution_count": 2,
   "metadata": {},
   "outputs": [
    {
     "name": "stdout",
     "output_type": "stream",
     "text": [
      "count    463.000000\n",
      "mean      19.721166\n",
      "std       15.153278\n",
      "min        1.300000\n",
      "25%        8.150000\n",
      "50%       16.300000\n",
      "75%       27.950000\n",
      "max       91.100000\n",
      "Name: Time, dtype: float64\n",
      "count    516.000000\n",
      "mean      16.681977\n",
      "std       13.205276\n",
      "min        1.300000\n",
      "25%        6.500000\n",
      "50%       13.800000\n",
      "75%       22.700000\n",
      "max       77.700000\n",
      "Name: Time, dtype: float64\n"
     ]
    }
   ],
   "source": [
    "%matplotlib inline\n",
    "\n",
    "import pandas as pd\n",
    "import matplotlib.pyplot as plt\n",
    "import seaborn as sns\n",
    "rugby_data = pd.read_csv('/Users/miguelrodriguez/Desktop/Visual Communication & Information Design/Data/rugby.csv')\n",
    "old_rules_times = rugby_data[rugby_data['Rules'] == 0]['Time']\n",
    "new_rules_times = rugby_data[rugby_data['Rules'] == 1]['Time']\n",
    "print(old_rules_times.describe())\n",
    "print(new_rules_times.describe())"
   ]
  },
  {
   "cell_type": "code",
   "execution_count": 3,
   "metadata": {},
   "outputs": [
    {
     "name": "stdout",
     "output_type": "stream",
     "text": [
      "0      39.2\n",
      "1       2.7\n",
      "2       9.2\n",
      "3      14.6\n",
      "4       1.9\n",
      "5      17.8\n",
      "6      15.5\n",
      "7      53.8\n",
      "8      17.5\n",
      "9      27.5\n",
      "10      4.8\n",
      "11      8.6\n",
      "12     22.1\n",
      "13     29.8\n",
      "14     10.4\n",
      "15      9.8\n",
      "16     27.7\n",
      "17     32.7\n",
      "18     32.0\n",
      "19     34.3\n",
      "20     29.1\n",
      "21      6.5\n",
      "22      2.8\n",
      "23     10.8\n",
      "24      9.2\n",
      "25     12.9\n",
      "26      7.1\n",
      "27     23.8\n",
      "28      7.6\n",
      "29     36.4\n",
      "       ... \n",
      "433     6.9\n",
      "434    22.6\n",
      "435    10.7\n",
      "436     7.0\n",
      "437    28.6\n",
      "438     8.1\n",
      "439    22.8\n",
      "440    21.9\n",
      "441    17.1\n",
      "442    10.2\n",
      "443    63.3\n",
      "444    20.1\n",
      "445     2.7\n",
      "446    13.2\n",
      "447    27.1\n",
      "448    17.1\n",
      "449     3.5\n",
      "450    17.4\n",
      "451    55.8\n",
      "452    12.9\n",
      "453    35.8\n",
      "454    10.0\n",
      "455    45.8\n",
      "456    24.5\n",
      "457     5.0\n",
      "458    18.1\n",
      "459    21.9\n",
      "460     7.2\n",
      "461    12.4\n",
      "462     8.2\n",
      "Name: Time, Length: 463, dtype: float64\n",
      "463    14.3\n",
      "464    11.5\n",
      "465    29.2\n",
      "466    19.7\n",
      "467    35.8\n",
      "468    14.6\n",
      "469    13.3\n",
      "470    27.8\n",
      "471    43.1\n",
      "472    46.6\n",
      "473    33.5\n",
      "474    26.2\n",
      "475    35.8\n",
      "476     5.0\n",
      "477    30.3\n",
      "478    14.8\n",
      "479    15.2\n",
      "480    12.2\n",
      "481    19.2\n",
      "482     2.1\n",
      "483    42.6\n",
      "484    12.7\n",
      "485     9.1\n",
      "486    35.1\n",
      "487    14.2\n",
      "488    41.8\n",
      "489    10.3\n",
      "490    12.4\n",
      "491     9.5\n",
      "492    40.8\n",
      "       ... \n",
      "949    22.7\n",
      "950    14.4\n",
      "951     9.9\n",
      "952     5.2\n",
      "953    29.8\n",
      "954    14.8\n",
      "955     2.6\n",
      "956    24.7\n",
      "957    17.5\n",
      "958     2.5\n",
      "959     9.9\n",
      "960    25.4\n",
      "961     4.8\n",
      "962    27.7\n",
      "963     2.3\n",
      "964    21.7\n",
      "965    37.8\n",
      "966     3.2\n",
      "967    32.0\n",
      "968     7.8\n",
      "969    11.5\n",
      "970     4.1\n",
      "971     7.1\n",
      "972    28.0\n",
      "973    36.3\n",
      "974    18.8\n",
      "975    16.5\n",
      "976     3.5\n",
      "977    17.9\n",
      "978    46.6\n",
      "Name: Time, Length: 516, dtype: float64\n"
     ]
    }
   ],
   "source": [
    "print(old_rules_times)\n",
    "print(new_rules_times)"
   ]
  },
  {
   "cell_type": "code",
   "execution_count": 4,
   "metadata": {},
   "outputs": [
    {
     "data": {
      "image/png": "[encoded data removed]",
      "text/plain": [
       "<matplotlib.figure.Figure at 0x112db88d0>"
      ]
     },
     "metadata": {},
     "output_type": "display_data"
    },
    {
     "name": "stderr",
     "output_type": "stream",
     "text": [
      "/Library/Frameworks/Python.framework/Versions/3.6/lib/python3.6/site-packages/numpy/core/fromnumeric.py:52: FutureWarning: reshape is deprecated and will raise in a subsequent release. Please use .values.reshape(...) instead\n",
      "  return getattr(obj, method)(*args, **kwds)\n"
     ]
    },
    {
     "data": {
      "image/png": "[encoded data removed]",
      "text/plain": [
       "<matplotlib.figure.Figure at 0x112dfecf8>"
      ]
     },
     "metadata": {},
     "output_type": "display_data"
    }
   ],
   "source": [
    "plt.boxplot(old_rules_times)\n",
    "plt.show()\n",
    "plt.boxplot([new_rules_times, old_rules_times])\n",
    "plt.show()\n",
    "\n",
    "# if you want to display both boxplot in the same box, you have to wrap\n"
   ]
  },
  {
   "cell_type": "code",
   "execution_count": 5,
   "metadata": {},
   "outputs": [
    {
     "name": "stdout",
     "output_type": "stream",
     "text": [
      "Ttest_indResult(statistic=3.35291261148552, pvalue=0.0008303559360853604)\n"
     ]
    }
   ],
   "source": [
    "from scipy import stats\n",
    "\n",
    "result= stats.ttest_ind(old_rules_times, new_rules_times)\n",
    "print(result)"
   ]
  },
  {
   "cell_type": "code",
   "execution_count": 6,
   "metadata": {},
   "outputs": [
    {
     "name": "stdout",
     "output_type": "stream",
     "text": [
      "         age height gender\n",
      "0      22.00  75.00      m\n",
      "1      35.00  70.00      m\n",
      "2      38.00  68.00      m\n",
      "3      23.00  71.00      m\n",
      "4      29.00  66.00      m\n",
      "5      29.00  67.00      m\n",
      "6      32.00  65.00      f\n",
      "7      31.00  65.00      f\n",
      "8      24.00  67.00      f\n",
      "9      37.00  65.00      m\n",
      "10     35.00  70.00      m\n",
      "11     28.00  72.00      m\n",
      "12     24.00  72.00      m\n",
      "13     30.00  66.00      f\n",
      "14     29.00  62.00      f\n",
      "15     39.00  65.00      f\n",
      "16     33.00  70.00      m\n",
      "17     26.00  64.00      f\n",
      "18     31.00  71.00      m\n",
      "19     33.00  72.00      m\n",
      "20     27.00  67.00      f\n",
      "21     22.00  67.00      f\n",
      "22     30.00  69.00      m\n",
      "23     30.00  71.00      m\n",
      "24     33.00  73.00      m\n",
      "25     28.00  70.00      m\n",
      "26     22.00  72.00      m\n",
      "27     22.00  67.00      m\n",
      "28     30.00  74.00      m\n",
      "29     32.00  68.00      m\n",
      "...      ...    ...    ...\n",
      "60713  29.00  64.00      f\n",
      "60714  26.00  71.00      m\n",
      "60715  27.00  67.00      f\n",
      "60716  40.00  66.00      f\n",
      "60717  22.00  68.00      f\n",
      "60718  33.00  63.00      f\n",
      "60719  22.00  65.00      f\n",
      "60720  22.00  71.00      m\n",
      "60721  25.00  64.00      f\n",
      "60722  28.00  61.00      f\n",
      "60723  28.00  64.00      f\n",
      "60724  26.00  69.00      f\n",
      "60725  29.00  75.00      m\n",
      "60726  27.00  68.00      m\n",
      "60727  41.00  76.00      m\n",
      "60728  24.00  72.00      m\n",
      "60729  21.00  78.00      m\n",
      "60730  30.00  64.00      f\n",
      "60731  43.00  63.00      f\n",
      "60732  33.00  67.00      f\n",
      "60733  25.00  61.00      f\n",
      "60734  32.00  69.00      m\n",
      "60735  48.00  73.00      m\n",
      "60736  52.00  70.00      m\n",
      "60737  31.00  62.00      f\n",
      "60738  59.00  62.00      f\n",
      "60739  24.00  72.00      m\n",
      "60740  42.00  71.00      m\n",
      "60741  27.00  73.00      m\n",
      "60742  39.00  68.00      m\n",
      "\n",
      "[51256 rows x 3 columns]\n"
     ]
    }
   ],
   "source": [
    "h_data = pd.read_csv('/Users/miguelrodriguez/Desktop/Visual Communication & Information Design/Data/height.csv')\n",
    "h_data = h_data.dropna()\n",
    "print(h_data)"
   ]
  },
  {
   "cell_type": "code",
   "execution_count": 7,
   "metadata": {},
   "outputs": [
    {
     "name": "stdout",
     "output_type": "stream",
     "text": [
      "count    30493.000000\n",
      "mean        70.429804\n",
      "std          3.071116\n",
      "min          1.000000\n",
      "25%         68.000000\n",
      "50%         70.000000\n",
      "75%         72.000000\n",
      "max         95.000000\n",
      "Name: height, dtype: float64\n",
      "count    20763.000000\n",
      "mean        65.121851\n",
      "std          2.905271\n",
      "min          4.000000\n",
      "25%         63.000000\n",
      "50%         65.000000\n",
      "75%         67.000000\n",
      "max         95.000000\n",
      "Name: height, dtype: float64\n"
     ]
    }
   ],
   "source": [
    "male_height = h_data[h_data['gender'] == 'm']['height']\n",
    "female_height = h_data[h_data['gender'] == 'f']['height']\n",
    "\n",
    "male_height = pd.to_numeric(male_height)\n",
    "female_height = pd.to_numeric(female_height)\n",
    "# you need the previous bit of code to turn the values into numbers\n",
    "\n",
    "print(male_height.describe())\n",
    "print(female_height.describe())\n",
    "# why not the mean, 25%, 50%..."
   ]
  },
  {
   "cell_type": "code",
   "execution_count": 8,
   "metadata": {},
   "outputs": [
    {
     "name": "stdout",
     "output_type": "stream",
     "text": [
      "Ttest_indResult(statistic=196.31331602540718, pvalue=0.0)\n"
     ]
    }
   ],
   "source": [
    "\n",
    "result1= stats.ttest_ind(male_height, female_height)\n",
    "print(result1)"
   ]
  },
  {
   "cell_type": "code",
   "execution_count": 13,
   "metadata": {},
   "outputs": [
    {
     "data": {
      "text/plain": [
       "(array([1.000e+00, 0.000e+00, 1.000e+00, 0.000e+00, 0.000e+00, 0.000e+00,\n",
       "        0.000e+00, 0.000e+00, 0.000e+00, 0.000e+00, 0.000e+00, 0.000e+00,\n",
       "        0.000e+00, 0.000e+00, 0.000e+00, 0.000e+00, 0.000e+00, 0.000e+00,\n",
       "        0.000e+00, 0.000e+00, 0.000e+00, 2.000e+00, 0.000e+00, 0.000e+00,\n",
       "        0.000e+00, 1.000e+00, 0.000e+00, 0.000e+00, 0.000e+00, 2.000e+00,\n",
       "        1.000e+00, 1.000e+00, 4.000e+00, 5.000e+00, 2.200e+01, 3.700e+01,\n",
       "        8.120e+02, 9.100e+02, 4.116e+03, 3.025e+03, 5.406e+03, 2.403e+03,\n",
       "        2.774e+03, 6.720e+02, 4.830e+02, 4.100e+01, 2.400e+01, 5.000e+00,\n",
       "        4.000e+00, 0.000e+00, 0.000e+00, 0.000e+00, 1.000e+00, 0.000e+00,\n",
       "        1.000e+00, 0.000e+00, 0.000e+00, 1.000e+00, 2.000e+00, 6.000e+00]),\n",
       " array([ 4.        ,  5.51666667,  7.03333333,  8.55      , 10.06666667,\n",
       "        11.58333333, 13.1       , 14.61666667, 16.13333333, 17.65      ,\n",
       "        19.16666667, 20.68333333, 22.2       , 23.71666667, 25.23333333,\n",
       "        26.75      , 28.26666667, 29.78333333, 31.3       , 32.81666667,\n",
       "        34.33333333, 35.85      , 37.36666667, 38.88333333, 40.4       ,\n",
       "        41.91666667, 43.43333333, 44.95      , 46.46666667, 47.98333333,\n",
       "        49.5       , 51.01666667, 52.53333333, 54.05      , 55.56666667,\n",
       "        57.08333333, 58.6       , 60.11666667, 61.63333333, 63.15      ,\n",
       "        64.66666667, 66.18333333, 67.7       , 69.21666667, 70.73333333,\n",
       "        72.25      , 73.76666667, 75.28333333, 76.8       , 78.31666667,\n",
       "        79.83333333, 81.35      , 82.86666667, 84.38333333, 85.9       ,\n",
       "        87.41666667, 88.93333333, 90.45      , 91.96666667, 93.48333333,\n",
       "        95.        ]),\n",
       " <a list of 60 Patch objects>)"
      ]
     },
     "execution_count": 13,
     "metadata": {},
     "output_type": "execute_result"
    },
    {
     "data": {
      "image/png": "[encoded data removed]",
      "text/plain": [
       "<matplotlib.figure.Figure at 0x1147ada20>"
      ]
     },
     "metadata": {},
     "output_type": "display_data"
    }
   ],
   "source": [
    "plt.hist(female_height, bins=60)"
   ]
  },
  {
   "cell_type": "code",
   "execution_count": 16,
   "metadata": {},
   "outputs": [
    {
     "name": "stderr",
     "output_type": "stream",
     "text": [
      "/Library/Frameworks/Python.framework/Versions/3.6/lib/python3.6/site-packages/numpy/core/fromnumeric.py:52: FutureWarning: reshape is deprecated and will raise in a subsequent release. Please use .values.reshape(...) instead\n",
      "  return getattr(obj, method)(*args, **kwds)\n"
     ]
    },
    {
     "data": {
      "text/plain": [
       "([array([1.000e+00, 1.000e+00, 0.000e+00, 0.000e+00, 0.000e+00, 0.000e+00,\n",
       "         1.000e+00, 0.000e+00, 0.000e+00, 0.000e+00, 0.000e+00, 0.000e+00,\n",
       "         0.000e+00, 0.000e+00, 0.000e+00, 0.000e+00, 0.000e+00, 0.000e+00,\n",
       "         0.000e+00, 0.000e+00, 0.000e+00, 1.000e+00, 0.000e+00, 0.000e+00,\n",
       "         0.000e+00, 0.000e+00, 0.000e+00, 0.000e+00, 0.000e+00, 8.000e+00,\n",
       "         1.000e+00, 0.000e+00, 0.000e+00, 0.000e+00, 0.000e+00, 1.000e+00,\n",
       "         0.000e+00, 0.000e+00, 0.000e+00, 0.000e+00, 0.000e+00, 0.000e+00,\n",
       "         0.000e+00, 0.000e+00, 2.000e+00, 2.000e+00, 1.000e+00, 0.000e+00,\n",
       "         4.000e+00, 3.000e+00, 2.900e+01, 7.000e+01, 1.150e+02, 3.170e+02,\n",
       "         6.120e+02, 1.332e+03, 2.198e+03, 6.347e+03, 4.526e+03, 3.830e+03,\n",
       "         4.361e+03, 2.348e+03, 3.269e+03, 6.540e+02, 2.330e+02, 1.060e+02,\n",
       "         4.800e+01, 2.000e+01, 1.500e+01, 1.200e+01, 5.000e+00, 1.000e+00,\n",
       "         0.000e+00, 0.000e+00, 3.000e+00, 1.000e+00, 1.000e+00, 0.000e+00,\n",
       "         0.000e+00, 1.400e+01]),\n",
       "  array([0.000e+00, 0.000e+00, 1.000e+00, 0.000e+00, 0.000e+00, 1.000e+00,\n",
       "         0.000e+00, 0.000e+00, 0.000e+00, 0.000e+00, 0.000e+00, 0.000e+00,\n",
       "         0.000e+00, 0.000e+00, 0.000e+00, 0.000e+00, 0.000e+00, 0.000e+00,\n",
       "         0.000e+00, 0.000e+00, 0.000e+00, 0.000e+00, 0.000e+00, 0.000e+00,\n",
       "         0.000e+00, 0.000e+00, 0.000e+00, 0.000e+00, 0.000e+00, 1.000e+00,\n",
       "         1.000e+00, 0.000e+00, 0.000e+00, 0.000e+00, 0.000e+00, 1.000e+00,\n",
       "         0.000e+00, 0.000e+00, 0.000e+00, 0.000e+00, 2.000e+00, 0.000e+00,\n",
       "         1.000e+00, 1.000e+00, 2.000e+00, 7.000e+00, 6.000e+00, 1.600e+01,\n",
       "         3.700e+01, 1.880e+02, 6.240e+02, 2.774e+03, 2.252e+03, 3.025e+03,\n",
       "         2.648e+03, 2.758e+03, 2.403e+03, 2.774e+03, 6.720e+02, 3.140e+02,\n",
       "         1.690e+02, 4.100e+01, 2.400e+01, 5.000e+00, 4.000e+00, 0.000e+00,\n",
       "         0.000e+00, 0.000e+00, 0.000e+00, 0.000e+00, 1.000e+00, 0.000e+00,\n",
       "         0.000e+00, 1.000e+00, 0.000e+00, 0.000e+00, 1.000e+00, 1.000e+00,\n",
       "         1.000e+00, 6.000e+00])],\n",
       " array([ 1.   ,  2.175,  3.35 ,  4.525,  5.7  ,  6.875,  8.05 ,  9.225,\n",
       "        10.4  , 11.575, 12.75 , 13.925, 15.1  , 16.275, 17.45 , 18.625,\n",
       "        19.8  , 20.975, 22.15 , 23.325, 24.5  , 25.675, 26.85 , 28.025,\n",
       "        29.2  , 30.375, 31.55 , 32.725, 33.9  , 35.075, 36.25 , 37.425,\n",
       "        38.6  , 39.775, 40.95 , 42.125, 43.3  , 44.475, 45.65 , 46.825,\n",
       "        48.   , 49.175, 50.35 , 51.525, 52.7  , 53.875, 55.05 , 56.225,\n",
       "        57.4  , 58.575, 59.75 , 60.925, 62.1  , 63.275, 64.45 , 65.625,\n",
       "        66.8  , 67.975, 69.15 , 70.325, 71.5  , 72.675, 73.85 , 75.025,\n",
       "        76.2  , 77.375, 78.55 , 79.725, 80.9  , 82.075, 83.25 , 84.425,\n",
       "        85.6  , 86.775, 87.95 , 89.125, 90.3  , 91.475, 92.65 , 93.825,\n",
       "        95.   ]),\n",
       " <a list of 2 Lists of Patches objects>)"
      ]
     },
     "execution_count": 16,
     "metadata": {},
     "output_type": "execute_result"
    },
    {
     "data": {
      "image/png": "[encoded data removed]",
      "text/plain": [
       "<matplotlib.figure.Figure at 0x112f14a58>"
      ]
     },
     "metadata": {},
     "output_type": "display_data"
    }
   ],
   "source": [
    "plt.hist([male_height, female_height], bins=80)"
   ]
  },
  {
   "cell_type": "code",
   "execution_count": 17,
   "metadata": {},
   "outputs": [
    {
     "name": "stdout",
     "output_type": "stream",
     "text": [
      "     Height  Weight  Age  Gender  Smokes  Alcohol  Exercise  Ran  Pulse1  \\\n",
      "0       173    57.0   18       2       2        1         2    2    86.0   \n",
      "1       179    58.0   19       2       2        1         2    1    82.0   \n",
      "2       167    62.0   18       2       2        1         1    1    96.0   \n",
      "3       195    84.0   18       1       2        1         1    2    71.0   \n",
      "4       173    64.0   18       2       2        1         3    2    90.0   \n",
      "5       184    74.0   22       1       2        1         3    1    78.0   \n",
      "6       162    57.0   20       2       2        1         2    2    68.0   \n",
      "7       169    55.0   18       2       2        1         2    2    71.0   \n",
      "8       164    56.0   19       2       2        1         1    2    68.0   \n",
      "9       168    60.0   23       1       2        1         2    1    88.0   \n",
      "10      170    75.0   20       1       2        1         1    1    76.0   \n",
      "11      178    58.0   19       1       2        2         3    2    74.0   \n",
      "12      170    68.0   22       1       1        1         2    2    70.0   \n",
      "13      187    59.0   18       1       2        1         1    2    78.0   \n",
      "14      180    72.0   18       1       2        1         2    2    69.0   \n",
      "15      185   110.0   22       1       2        1         3    2    77.0   \n",
      "16      170    56.0   19       1       2        2         3    2    64.0   \n",
      "17      180    70.0   18       1       2        1         2    1    80.0   \n",
      "18      166    56.0   21       2       1        2         2    2    83.0   \n",
      "19      155    50.0   19       2       2        2         2    2    78.0   \n",
      "20      175    60.0   19       1       2        2         3    2    88.0   \n",
      "21      140    50.0   34       2       2        2         3    1    70.0   \n",
      "22      163    55.0   20       2       2        2         3    2    78.0   \n",
      "23      182    75.0   26       1       1        1         2    2    80.0   \n",
      "24      176    59.0   19       1       2        2         2    2    68.0   \n",
      "25      177    74.0   18       2       2        2         2    1    70.0   \n",
      "26      170    60.0   18       1       2        1         2    2    62.0   \n",
      "27      172    60.0   21       2       2        2         3    2    81.0   \n",
      "28      189    60.0   19       1       2        1         2    1    78.0   \n",
      "29      178    56.0   21       2       2        1         2    1    86.0   \n",
      "..      ...     ...  ...     ...     ...      ...       ...  ...     ...   \n",
      "80      172    59.0   18       2       2        1         2    1    78.0   \n",
      "81      171    71.0   41       1       2        2         3    2    52.0   \n",
      "82      180    76.0   21       1       2        2         1    2    74.0   \n",
      "83      194   110.0   25       1       2        2         2    2    75.0   \n",
      "84      167    63.0   28       1       2        1         2    2    72.0   \n",
      "85      192   105.0   21       1       2        2         2    2    80.0   \n",
      "86      194    95.0   18       1       2        1         2    1    84.0   \n",
      "87      189    88.0   45       1       2        2         2    2    74.0   \n",
      "88      162    50.0   19       2       2        1         2    1    90.0   \n",
      "89      175    54.0   18       2       2        1         2    2    61.0   \n",
      "90      175    78.5   19       1       2        1         3    1    85.0   \n",
      "91      186    96.0   19       1       2        1         3    1    78.0   \n",
      "92      178    86.0   21       1       1        1         3    2    76.0   \n",
      "93      170    58.0   21       1       1        1         2    2    90.0   \n",
      "94      165    58.0   23       2       2        1         3    2    64.0   \n",
      "95      164    78.0   28       2       2        2         2    1    64.0   \n",
      "96      180    65.0   20       1       2        2         2    1    88.0   \n",
      "97      170    62.0   20       2       2        1         2    2    64.0   \n",
      "98      155    55.0   20       2       2        1         1    2    82.0   \n",
      "99      165    60.0   19       2       1        1         3    1    88.0   \n",
      "100     168    55.0   24       2       2        2         2    2    74.0   \n",
      "101      68    63.0   19       1       2        2         2    1    88.0   \n",
      "102     170    63.0   20       2       2        1         3    1    92.0   \n",
      "103     179    80.0   20       1       2        2         2    1    76.0   \n",
      "104     163    47.0   23       2       1        1         3    1    71.0   \n",
      "105      93    27.0   19       2       2        2         3    2   119.0   \n",
      "106     161    43.0   19       2       2        2         3    2    90.0   \n",
      "107     182    60.0   22       1       2        1         3    2    86.0   \n",
      "108     170    65.0   18       1       2        1         1    2    69.0   \n",
      "109     185    85.0   19       1       2        1         2    2    75.0   \n",
      "\n",
      "     Pulse2  Year  \n",
      "0      88.0    93  \n",
      "1     150.0    93  \n",
      "2     176.0    93  \n",
      "3      73.0    93  \n",
      "4      88.0    93  \n",
      "5     141.0    93  \n",
      "6      72.0    93  \n",
      "7      77.0    93  \n",
      "8      68.0    93  \n",
      "9     150.0    93  \n",
      "10     88.0    93  \n",
      "11     76.0    93  \n",
      "12     71.0    93  \n",
      "13     82.0    93  \n",
      "14     67.0    93  \n",
      "15     73.0    93  \n",
      "16     63.0    93  \n",
      "17    146.0    93  \n",
      "18     79.0    93  \n",
      "19     79.0    93  \n",
      "20     86.0    93  \n",
      "21     98.0    93  \n",
      "22     74.0    93  \n",
      "23     76.0    93  \n",
      "24     69.0    93  \n",
      "25     96.0    93  \n",
      "26     59.0    95  \n",
      "27     79.0    95  \n",
      "28    168.0    95  \n",
      "29    150.0    95  \n",
      "..      ...   ...  \n",
      "80    129.0    97  \n",
      "81     60.0    97  \n",
      "82     72.0    97  \n",
      "83     75.0    97  \n",
      "84     68.0    97  \n",
      "85     73.0    97  \n",
      "86    140.0    97  \n",
      "87     72.0    97  \n",
      "88    160.0    97  \n",
      "89     59.0    97  \n",
      "90    131.0    97  \n",
      "91    132.0    97  \n",
      "92     80.0    98  \n",
      "93     84.0    98  \n",
      "94     68.0    98  \n",
      "95    120.0    98  \n",
      "96    144.0    98  \n",
      "97     64.0    98  \n",
      "98     87.0    98  \n",
      "99    120.0    98  \n",
      "100    70.0    98  \n",
      "101   136.0    98  \n",
      "102   120.0    98  \n",
      "103   168.0    98  \n",
      "104   125.0    98  \n",
      "105   120.0    98  \n",
      "106    89.0    98  \n",
      "107    84.0    98  \n",
      "108    64.0    98  \n",
      "109    68.0    98  \n",
      "\n",
      "[109 rows x 11 columns]\n"
     ]
    }
   ],
   "source": [
    "f_data = pd.read_csv('/Users/miguelrodriguez/Desktop/Visual Communication & Information Design/Data/fitness.csv')\n",
    "f_data = f_data.dropna()\n",
    "print(f_data)"
   ]
  },
  {
   "cell_type": "code",
   "execution_count": 34,
   "metadata": {},
   "outputs": [
    {
     "name": "stdout",
     "output_type": "stream",
     "text": [
      "Ttest_indResult(statistic=-33.33881583056688, pvalue=2.435682395617655e-58)\n"
     ]
    }
   ],
   "source": [
    "run_fitness = f_data[f_data['Ran'] == 1]['Age']\n",
    "run_fitness_pulse = f_data[f_data['Ran'] == 1]['Pulse1']\n",
    "notrun_fitness = f_data[f_data['Ran'] == 2]['Pulse2']\n",
    "# print(run_fitness.describe())\n",
    "result2= stats.ttest_ind(run_fitness, notrun_fitness)\n",
    "print(result2)"
   ]
  },
  {
   "cell_type": "code",
   "execution_count": 35,
   "metadata": {},
   "outputs": [
    {
     "name": "stdout",
     "output_type": "stream",
     "text": [
      "(0.6332087516784668, 1.7670043206408081e-09)\n",
      "(0.9339218735694885, 0.0021960458252578974)\n"
     ]
    }
   ],
   "source": [
    "import scipy.stats as stats\n",
    "\n",
    "print(stats.shapiro(run_fitness))\n",
    "print(stats.shapiro(notrun_fitness))"
   ]
  },
  {
   "cell_type": "code",
   "execution_count": 36,
   "metadata": {},
   "outputs": [
    {
     "name": "stdout",
     "output_type": "stream",
     "text": [
      "MannwhitneyuResult(statistic=0.0, pvalue=2.5266607690205387e-19)\n"
     ]
    }
   ],
   "source": [
    "resultman = stats.mannwhitneyu(run_fitness, notrun_fitness)\n",
    "print(resultman)"
   ]
  },
  {
   "cell_type": "code",
   "execution_count": 37,
   "metadata": {},
   "outputs": [
    {
     "data": {
      "text/plain": [
       "(-0.10380653327619102, 0.49237731559052766)"
      ]
     },
     "execution_count": 37,
     "metadata": {},
     "output_type": "execute_result"
    }
   ],
   "source": [
    "stats.stats.pearsonr(run_fitness, run_fitness_pulse)"
   ]
  },
  {
   "cell_type": "code",
   "execution_count": null,
   "metadata": {},
   "outputs": [],
   "source": []
  }
 ],
 "metadata": {
  "kernelspec": {
   "display_name": "Python 3",
   "language": "python",
   "name": "python3"
  },
  "language_info": {
   "codemirror_mode": {
    "name": "ipython",
    "version": 3
   },
   "file_extension": ".py",
   "mimetype": "text/x-python",
   "name": "python",
   "nbconvert_exporter": "python",
   "pygments_lexer": "ipython3",
   "version": "3.6.3"
  }
 },
 "nbformat": 4,
 "nbformat_minor": 2
}
