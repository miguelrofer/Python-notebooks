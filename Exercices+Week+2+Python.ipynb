{
 "cells": [
  {
   "cell_type": "code",
   "execution_count": 5,
   "metadata": {},
   "outputs": [
    {
     "data": {
      "text/plain": [
       "True"
      ]
     },
     "execution_count": 5,
     "metadata": {},
     "output_type": "execute_result"
    }
   ],
   "source": [
    "str_a='Hello'\n",
    "'H' in str_a\n"
   ]
  },
  {
   "cell_type": "code",
   "execution_count": 10,
   "metadata": {},
   "outputs": [
    {
     "name": "stdout",
     "output_type": "stream",
     "text": [
      "501501 1001\n"
     ]
    }
   ],
   "source": [
    "total=i=0\n",
    "while i<=1000:\n",
    "    i+=1\n",
    "    total+=i\n",
    "print(total, i)"
   ]
  },
  {
   "cell_type": "code",
   "execution_count": 12,
   "metadata": {},
   "outputs": [
    {
     "name": "stdout",
     "output_type": "stream",
     "text": [
      "a is a vowel\n",
      "b is a consonant\n",
      "c is a consonant\n",
      "d is a consonant\n",
      "e is a vowel\n",
      "f is a consonant\n",
      "g is a consonant\n",
      "h is a consonant\n",
      "i is a vowel\n",
      "j is a consonant\n",
      "k is a consonant\n",
      "l is a consonant\n",
      "m is a consonant\n",
      "n is a consonant\n",
      "o is a vowel\n",
      "p is a consonant\n",
      "q is a consonant\n",
      "r is a consonant\n",
      "s is a consonant\n",
      "t is a consonant\n",
      "u is a vowel\n",
      "v is a consonant\n",
      "w is a consonant\n",
      "x is a consonant\n",
      "y is a consonant\n",
      "z is a consonant\n"
     ]
    }
   ],
   "source": [
    "for letter in \"abcdefghijklmnopqrstuvwxyz\": \n",
    "    if letter in \"aeiou\":\n",
    "        print (letter, 'is a vowel')\n",
    "    else:\n",
    "        print (letter, 'is a consonant')"
   ]
  },
  {
   "cell_type": "code",
   "execution_count": 13,
   "metadata": {},
   "outputs": [
    {
     "name": "stdout",
     "output_type": "stream",
     "text": [
      "sum= 1001\n"
     ]
    }
   ],
   "source": [
    "total=0\n",
    "for i in range(1001):\n",
    "    total+=1\n",
    "print(\"sum=\", total)"
   ]
  },
  {
   "cell_type": "code",
   "execution_count": 15,
   "metadata": {},
   "outputs": [
    {
     "name": "stdout",
     "output_type": "stream",
     "text": [
      "30,15,"
     ]
    }
   ],
   "source": [
    "for i in range(40,0,-5):\n",
    "    if(i%3==0):\n",
    "        print(i, end=',')"
   ]
  },
  {
   "cell_type": "code",
   "execution_count": 17,
   "metadata": {},
   "outputs": [
    {
     "name": "stdout",
     "output_type": "stream",
     "text": [
      "e had a run in the park\n"
     ]
    }
   ],
   "source": [
    "st1='He had a run in the park.'\n",
    "st2='The family went to the park to feed the ducks'\n",
    "st3=''\n",
    "for c in st1:\n",
    "    if c in st2:\n",
    "        st3+=c\n",
    "print(st3)"
   ]
  },
  {
   "cell_type": "code",
   "execution_count": 18,
   "metadata": {},
   "outputs": [
    {
     "name": "stdout",
     "output_type": "stream",
     "text": [
      "7 11 13 17 19 23 29 31 "
     ]
    }
   ],
   "source": [
    "for i in range(3,40):\n",
    "    if i==36:\n",
    "        break\n",
    "    if (i%2==0 or i%3==0 or i%5==0):\n",
    "        continue\n",
    "    print(i, end=' ')"
   ]
  },
  {
   "cell_type": "code",
   "execution_count": 21,
   "metadata": {},
   "outputs": [
    {
     "name": "stdout",
     "output_type": "stream",
     "text": [
      "!ldroW olleH\n"
     ]
    }
   ],
   "source": [
    "st='Hello Wordl!'\n",
    "\n",
    "st2=st[::-1]\n",
    "print(st2)"
   ]
  },
  {
   "cell_type": "code",
   "execution_count": null,
   "metadata": {},
   "outputs": [],
   "source": []
  }
 ],
 "metadata": {
  "kernelspec": {
   "display_name": "Python 3",
   "language": "python",
   "name": "python3"
  },
  "language_info": {
   "codemirror_mode": {
    "name": "ipython",
    "version": 3
   },
   "file_extension": ".py",
   "mimetype": "text/x-python",
   "name": "python",
   "nbconvert_exporter": "python",
   "pygments_lexer": "ipython3",
   "version": "3.6.3"
  }
 },
 "nbformat": 4,
 "nbformat_minor": 2
}
